{
 "cells": [
  {
   "cell_type": "code",
   "execution_count": null,
   "id": "04078609-0504-411c-9f9f-eeca41c9f04d",
   "metadata": {},
   "outputs": [],
   "source": [
    "import pyvista as pv\n",
    "import numpy as np\n",
    "from scipy.special import sph_harm\n",
    "import matplotlib.pyplot as plt\n",
    "\n",
    "from atomview.atom_wavefunction import get_wavefunction_prob_contour_mesh, get_wavefunction_volume_mesh, get_radial_part\n",
    "from atomview.utils import complex_to_rgba"
   ]
  },
  {
   "cell_type": "code",
   "execution_count": null,
   "id": "987bbea8-2ee2-4eea-a3b2-89e196efed01",
   "metadata": {},
   "outputs": [],
   "source": [
    "(n, l, m) = (1, 0, 0)"
   ]
  },
  {
   "cell_type": "code",
   "execution_count": null,
   "id": "6934bcbf-625f-480a-b33c-052da160d07d",
   "metadata": {},
   "outputs": [],
   "source": [
    "print(n, l, m)"
   ]
  },
  {
   "cell_type": "code",
   "execution_count": null,
   "id": "a6a7323f-acdf-478d-929d-9ecf79fe29fe",
   "metadata": {},
   "outputs": [],
   "source": [
    "pv.set_jupyter_backend('static')\n",
    "\n",
    "n = np.random.randint(1, 10)\n",
    "l = np.random.randint(0, n)\n",
    "m = np.random.randint(-l, l+1)\n",
    "\n",
    "(n, l, m) = (3, 2, 0)\n",
    "\n",
    "real = False\n",
    "notebook = True"
   ]
  },
  {
   "cell_type": "code",
   "execution_count": null,
   "id": "27247732-8826-4e35-a774-aeed1bfe9665",
   "metadata": {},
   "outputs": [],
   "source": [
    "r = np.linspace(0, (2*n)**2, 1000)\n",
    "R = get_radial_part(n, l, r)\n",
    "R /= max(np.abs(R))\n",
    "plt.plot(r, R, label=f'({n}, {l})')\n",
    "plt.xlabel('r ($a_0$)')\n",
    "plt.grid(True)\n",
    "plt.show()"
   ]
  },
  {
   "cell_type": "code",
   "execution_count": null,
   "id": "43ce077d-b944-4be1-90bb-330174e8c665",
   "metadata": {},
   "outputs": [],
   "source": [
    "from scipy.special import lpmv\n",
    "\n",
    "theta_1d = np.linspace(0, np.pi, 100)\n",
    "\n",
    "legendre_part = lpmv(m, l, np.cos(theta_1d))\n",
    "legendre_part /= max(np.abs(legendre_part))\n",
    "plt.plot(theta_1d/np.pi, legendre_part)\n",
    "plt.show()"
   ]
  },
  {
   "cell_type": "code",
   "execution_count": null,
   "id": "f0f08831-9e85-4877-a300-942c08cdf018",
   "metadata": {},
   "outputs": [],
   "source": [
    "theta_1d = np.linspace(0, np.pi, 300)\n",
    "phi_1d = np.linspace(0, 2 * np.pi, 300)\n",
    "\n",
    "theta, phi = np.meshgrid(theta_1d, phi_1d, indexing='ij')\n",
    "ylm = sph_harm(m, l, phi, theta)\n",
    "if real:\n",
    "    if m > 0:\n",
    "        ylm = np.sqrt(2) * (-1)**m * np.real(ylm)\n",
    "    elif m < 0:\n",
    "        ylm = np.sqrt(2) * (-1)**m * np.imag(ylm)   \n",
    "        \n",
    "color_map = complex_to_rgba(ylm, mag_maps_to='s')\n",
    "\n",
    "plt.imshow(color_map, extent=[0, 2, 1, 0], aspect=2)\n",
    "plt.xlabel('$\\phi$ ($\\pi$)')\n",
    "plt.ylabel('$\\\\theta$ ($\\pi$)')\n",
    "\n",
    "plt.show()"
   ]
  },
  {
   "cell_type": "code",
   "execution_count": null,
   "id": "560a3a66-7b46-4c00-adfc-0ece4ee9028f",
   "metadata": {},
   "outputs": [],
   "source": [
    "r = np.abs(ylm)\n",
    "\n",
    "x = r * np.sin(theta) * np.cos(phi)\n",
    "y = r * np.sin(theta) * np.sin(phi)\n",
    "z = r * np.cos(theta)\n",
    "\n",
    "color_map = complex_to_rgba(ylm, mag_maps_to='')\n",
    "\n",
    "mesh = pv.StructuredGrid(x, y, z)\n",
    "mesh['rgba'] = color_map.reshape((ylm.size, 4), order='F')\n",
    "\n",
    "pl = pv.Plotter(notebook=notebook)\n",
    "pl.set_background('black')\n",
    "pl.add_mesh(\n",
    "    mesh, \n",
    "    scalars='rgba', \n",
    "    rgb=True,    \n",
    "    specular=1,\n",
    "    smooth_shading=True,\n",
    "    diffuse=1,\n",
    "    ambient=0.3)\n",
    "pl.show()\n"
   ]
  },
  {
   "cell_type": "code",
   "execution_count": null,
   "id": "32519ae5-96f8-4284-9204-62dd7347718a",
   "metadata": {},
   "outputs": [],
   "source": [
    "contour_mesh = get_wavefunction_prob_contour_mesh(\n",
    "    n, l, m, real=real, num_pts=100,\n",
    "    prob_threshold_list=(0.5,),\n",
    "    mag_maps_to='',\n",
    "    clip=True)\n",
    "\n",
    "pl = pv.Plotter(notebook=notebook)\n",
    "pl.set_background('black')\n",
    "pl.add_mesh(\n",
    "    contour_mesh,\n",
    "    scalars='rgba',\n",
    "    smooth_shading=True,\n",
    "    rgb=True,\n",
    "    specular=1,\n",
    "    diffuse=1,\n",
    "    ambient=0.3)\n",
    "pl.show()"
   ]
  },
  {
   "cell_type": "code",
   "execution_count": null,
   "id": "278bb81a-858e-4cbe-b315-618d423158b6",
   "metadata": {},
   "outputs": [],
   "source": [
    "contour_mesh = get_wavefunction_prob_contour_mesh(\n",
    "    n, l, m, real=real, num_pts=100,\n",
    "    prob_threshold_list=(0.2, 0.5, 0.8),\n",
    "    mag_maps_to='a',\n",
    "    clip=False)\n",
    "\n",
    "pl = pv.Plotter(notebook=notebook)\n",
    "pl.set_background('black')\n",
    "pl.add_mesh(\n",
    "    contour_mesh,\n",
    "    scalars='rgba',\n",
    "    rgb=True,\n",
    "    specular=1,\n",
    "    diffuse=1,\n",
    "    ambient=0.3)\n",
    "pl.show()"
   ]
  },
  {
   "cell_type": "code",
   "execution_count": null,
   "id": "a81de428-73be-46c5-8890-166a50479e02",
   "metadata": {},
   "outputs": [],
   "source": [
    "volume_mesh = get_wavefunction_volume_mesh(\n",
    "    n, l, m, real=real, num_pts=100, max_opacity=0.4, clip=False\n",
    ")\n",
    "\n",
    "pl = pv.Plotter(notebook=notebook)\n",
    "pl.set_background('black')\n",
    "pl.add_volume(\n",
    "    volume_mesh,\n",
    "    scalars='rgba',\n",
    "    mapper='gpu'\n",
    ")\n",
    "pl.show()"
   ]
  },
  {
   "cell_type": "code",
   "execution_count": null,
   "id": "e6301471-e656-4d4a-a502-741933002877",
   "metadata": {},
   "outputs": [],
   "source": []
  }
 ],
 "metadata": {
  "kernelspec": {
   "display_name": "Python 3 (ipykernel)",
   "language": "python",
   "name": "python3"
  },
  "language_info": {
   "codemirror_mode": {
    "name": "ipython",
    "version": 3
   },
   "file_extension": ".py",
   "mimetype": "text/x-python",
   "name": "python",
   "nbconvert_exporter": "python",
   "pygments_lexer": "ipython3",
   "version": "3.9.13"
  }
 },
 "nbformat": 4,
 "nbformat_minor": 5
}
