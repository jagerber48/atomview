{
 "cells": [
  {
   "cell_type": "code",
   "execution_count": 1,
   "id": "655299f5-a509-4ac7-9b83-a9a2ee2086dc",
   "metadata": {},
   "outputs": [
    {
     "name": "stderr",
     "output_type": "stream",
     "text": [
      "C:\\Users\\Justin\\AppData\\Local\\Temp\\ipykernel_22300\\877767499.py:7: PythonQtWarning: Selected binding 'pyqt5' could not be found; falling back to 'pyqt6'\n",
      "  from qtpy import QtWidgets\n"
     ]
    },
    {
     "ename": "SystemExit",
     "evalue": "0",
     "output_type": "error",
     "traceback": [
      "An exception has occurred, use %tb to see the full traceback.\n",
      "\u001b[1;31mSystemExit\u001b[0m\u001b[1;31m:\u001b[0m 0\n"
     ]
    },
    {
     "name": "stderr",
     "output_type": "stream",
     "text": [
      "C:\\Users\\Justin\\AppData\\Local\\Programs\\Python\\Python39\\lib\\site-packages\\IPython\\core\\interactiveshell.py:3534: UserWarning: To exit: use 'exit', 'quit', or Ctrl-D.\n",
      "  warn(\"To exit: use 'exit', 'quit', or Ctrl-D.\", stacklevel=1)\n"
     ]
    }
   ],
   "source": [
    "import sys\n",
    "\n",
    "# Setting the Qt bindings for QtPy\n",
    "import os\n",
    "os.environ[\"QT_API\"] = \"pyqt5\"\n",
    "\n",
    "from qtpy import QtWidgets\n",
    "\n",
    "import numpy as np\n",
    "\n",
    "import pyvista as pv\n",
    "from pyvistaqt import QtInteractor, MainWindow\n",
    "\n",
    "class MyMainWindow(MainWindow):\n",
    "\n",
    "    def __init__(self, parent=None, show=True):\n",
    "        QtWidgets.QMainWindow.__init__(self, parent)\n",
    "\n",
    "        # create the frame\n",
    "        self.frame = QtWidgets.QFrame()\n",
    "        vlayout = QtWidgets.QVBoxLayout()\n",
    "\n",
    "        # add the pyvista interactor object\n",
    "        self.plotter = QtInteractor(self.frame)\n",
    "        vlayout.addWidget(self.plotter.interactor)\n",
    "        self.signal_close.connect(self.plotter.close)\n",
    "\n",
    "        self.frame.setLayout(vlayout)\n",
    "        self.setCentralWidget(self.frame)\n",
    "\n",
    "        # simple menu to demo functions\n",
    "        mainMenu = self.menuBar()\n",
    "        fileMenu = mainMenu.addMenu('File')\n",
    "        exitButton = QtWidgets.QAction('Exit', self)\n",
    "        exitButton.setShortcut('Ctrl+Q')\n",
    "        exitButton.triggered.connect(self.close)\n",
    "        fileMenu.addAction(exitButton)\n",
    "\n",
    "        # allow adding a sphere\n",
    "        meshMenu = mainMenu.addMenu('Mesh')\n",
    "        self.add_sphere_action = QtWidgets.QAction('Add Sphere', self)\n",
    "        self.add_sphere_action.triggered.connect(self.add_sphere)\n",
    "        meshMenu.addAction(self.add_sphere_action)\n",
    "\n",
    "        if show:\n",
    "            self.show()\n",
    "\n",
    "    def add_sphere(self):\n",
    "        \"\"\" add a sphere to the pyqt frame \"\"\"\n",
    "        sphere = pv.Sphere()\n",
    "        self.plotter.add_mesh(sphere, show_edges=True)\n",
    "        self.plotter.reset_camera()\n",
    "\n",
    "\n",
    "if __name__ == '__main__':\n",
    "    app = QtWidgets.QApplication(sys.argv)\n",
    "    window = MyMainWindow()\n",
    "    sys.exit(app.exec_())"
   ]
  },
  {
   "cell_type": "code",
   "execution_count": 12,
   "id": "bca61b63-c0a1-4d58-af8a-3f9d7ced7102",
   "metadata": {},
   "outputs": [],
   "source": [
    "sphere.points *= 0.5"
   ]
  }
 ],
 "metadata": {
  "kernelspec": {
   "display_name": "Python 3 (ipykernel)",
   "language": "python",
   "name": "python3"
  },
  "language_info": {
   "codemirror_mode": {
    "name": "ipython",
    "version": 3
   },
   "file_extension": ".py",
   "mimetype": "text/x-python",
   "name": "python",
   "nbconvert_exporter": "python",
   "pygments_lexer": "ipython3",
   "version": "3.9.13"
  }
 },
 "nbformat": 4,
 "nbformat_minor": 5
}
