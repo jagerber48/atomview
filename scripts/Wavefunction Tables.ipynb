{
 "cells": [
  {
   "cell_type": "code",
   "execution_count": 1,
   "id": "37185db8-a267-4ad4-8e06-d0a81c6b8939",
   "metadata": {},
   "outputs": [],
   "source": [
    "from pathlib import Path\n",
    "\n",
    "import pyvista as pv\n",
    "from tqdm import tqdm\n",
    "from atomview.atom_wavefunction import get_wavefunction_prob_contour_mesh"
   ]
  },
  {
   "cell_type": "code",
   "execution_count": 17,
   "id": "34796331-51a3-4a4f-85e3-a67caef0a763",
   "metadata": {},
   "outputs": [],
   "source": [
    "def plot_orbital_table(n, fig_path, real=False):\n",
    "    lmax = n - 1\n",
    "    plotter = pv.Plotter(shape=(lmax + 1, 2 * lmax + 1), \n",
    "                         border=False, notebook=False,\n",
    "                         window_size=[275 * (2*lmax + 1), 275 * (lmax + 1)],\n",
    "                         off_screen=True)\n",
    "    plotter.set_background('white')\n",
    "\n",
    "    for l in tqdm(range(0, lmax + 1), desc='generating meshes'):\n",
    "        for m in range(-l, l+1):\n",
    "            plotter.subplot(l, m + lmax)        \n",
    "            mesh = get_wavefunction_prob_contour_mesh(\n",
    "                       n, l, m, real=real, num_pts=100,\n",
    "                       prob_threshold_list=(0.5,),\n",
    "                       mag_maps_to='',\n",
    "                       clip=True\n",
    "            )\n",
    "            plotter.add_mesh(\n",
    "                mesh, \n",
    "                scalars='rgba', \n",
    "                rgb=True,   \n",
    "                smooth_shading=True,        \n",
    "                specular=0,\n",
    "                diffuse=1,\n",
    "                ambient=0.3\n",
    "            )\n",
    "            plotter.add_text(f'(n, l, m) = ({n}, {l}, {m})', font_size=10, color='black', position='upper_edge')\n",
    "\n",
    "    plotter.show(screenshot=str(fig_path))\n",
    "    plotter.close()"
   ]
  },
  {
   "cell_type": "code",
   "execution_count": 18,
   "id": "01ebe3a7-415f-4501-a736-b1f2693dfc08",
   "metadata": {},
   "outputs": [
    {
     "name": "stderr",
     "output_type": "stream",
     "text": [
      "generating meshes: 100%|█████████████████████████████████████████████████████████████████| 1/1 [00:01<00:00,  1.13s/it]\n",
      "generating meshes: 100%|█████████████████████████████████████████████████████████████████| 1/1 [00:01<00:00,  1.15s/it]\n",
      "generating meshes: 100%|█████████████████████████████████████████████████████████████████| 2/2 [00:05<00:00,  2.51s/it]\n",
      "generating meshes: 100%|█████████████████████████████████████████████████████████████████| 2/2 [00:06<00:00,  3.29s/it]\n",
      "generating meshes: 100%|█████████████████████████████████████████████████████████████████| 3/3 [00:11<00:00,  3.78s/it]\n",
      "generating meshes: 100%|█████████████████████████████████████████████████████████████████| 3/3 [00:11<00:00,  3.88s/it]\n",
      "generating meshes: 100%|█████████████████████████████████████████████████████████████████| 4/4 [00:20<00:00,  5.10s/it]\n",
      "generating meshes: 100%|█████████████████████████████████████████████████████████████████| 4/4 [00:20<00:00,  5.23s/it]\n",
      "generating meshes: 100%|█████████████████████████████████████████████████████████████████| 5/5 [00:34<00:00,  6.80s/it]\n",
      "generating meshes: 100%|█████████████████████████████████████████████████████████████████| 5/5 [00:31<00:00,  6.29s/it]\n",
      "generating meshes: 100%|█████████████████████████████████████████████████████████████████| 6/6 [00:50<00:00,  8.38s/it]\n",
      "generating meshes: 100%|█████████████████████████████████████████████████████████████████| 6/6 [00:49<00:00,  8.27s/it]\n"
     ]
    }
   ],
   "source": [
    "complex_fig_dir = Path(Path.cwd(), 'figures', 'orbital_figs', 'complex')\n",
    "complex_fig_dir.mkdir(exist_ok=True, parents=True)\n",
    "real_fig_dir = Path(Path.cwd(), 'figures', 'orbital_figs', 'real')\n",
    "real_fig_dir.mkdir(exist_ok=True, parents=True)\n",
    "\n",
    "for n in range(1, 6+1):\n",
    "    complex_fig_path = Path(complex_fig_dir, f'complex_orbital_n={n}.png')   \n",
    "    plot_orbital_table(n, complex_fig_path, real=False)\n",
    "\n",
    "    real_fig_path = Path(real_fig_dir, f'real_orbital_n={n}.png')    \n",
    "    plot_orbital_table(n, real_fig_path, real=True)"
   ]
  },
  {
   "cell_type": "code",
   "execution_count": null,
   "id": "8eb2f601-4f5d-44b1-9b10-ede1f2aa2d0e",
   "metadata": {},
   "outputs": [],
   "source": []
  }
 ],
 "metadata": {
  "kernelspec": {
   "display_name": "Python 3 (ipykernel)",
   "language": "python",
   "name": "python3"
  },
  "language_info": {
   "codemirror_mode": {
    "name": "ipython",
    "version": 3
   },
   "file_extension": ".py",
   "mimetype": "text/x-python",
   "name": "python",
   "nbconvert_exporter": "python",
   "pygments_lexer": "ipython3",
   "version": "3.9.13"
  }
 },
 "nbformat": 4,
 "nbformat_minor": 5
}
