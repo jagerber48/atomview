{
 "cells": [
  {
   "cell_type": "markdown",
   "id": "d28f4260-a186-4f05-8463-c004257cafd1",
   "metadata": {},
   "source": [
    "# Imports"
   ]
  },
  {
   "cell_type": "code",
   "execution_count": null,
   "id": "4fd03a0f",
   "metadata": {},
   "outputs": [],
   "source": [
    "import numpy as np\n",
    "from scipy.special import lpmv\n",
    "import matplotlib.pyplot as plt\n",
    "from atomview.atom_wavefunction import get_radial_part"
   ]
  },
  {
   "cell_type": "markdown",
   "id": "6e89857b-425a-45bc-a959-b34d5b69b3a4",
   "metadata": {},
   "source": [
    "# Radial Part"
   ]
  },
  {
   "cell_type": "markdown",
   "id": "546abf9e-069d-470c-bec6-edd7d3952d8a",
   "metadata": {},
   "source": [
    "## n Sorted"
   ]
  },
  {
   "cell_type": "code",
   "execution_count": null,
   "id": "450e0390",
   "metadata": {},
   "outputs": [],
   "source": [
    "fig, axes = plt.subplots(1, 5, figsize=(5*4, 4))\n",
    "\n",
    "for n in range(1, 5+1):\n",
    "    ax = axes[n-1]\n",
    "    r = np.linspace(0, (2*n)**2, 1000)\n",
    "    for l in range(n-1, -1, -1):\n",
    "        R = get_radial_part(n, l, r)\n",
    "        ax.plot(r, R/max(R), label=f'({n}, {l})')\n",
    "        ax.legend()\n",
    "        ax.grid(True)\n",
    "\n",
    "plt.show()"
   ]
  },
  {
   "cell_type": "markdown",
   "id": "6f9aed20-1e85-48a3-b24c-ae223bf96c9b",
   "metadata": {},
   "source": [
    "## Diff Sorted"
   ]
  },
  {
   "cell_type": "code",
   "execution_count": null,
   "id": "806f03f0",
   "metadata": {},
   "outputs": [],
   "source": [
    "fig, axes = plt.subplots(1, 5, figsize=(5*4, 4))\n",
    "\n",
    "for diff in range(1, 5+1):\n",
    "    ax = axes[diff-1]\n",
    "    for n in range(1, 5+1):\n",
    "        r = np.linspace(0, (2*n)**2, 1000)\n",
    "        if diff > n:\n",
    "            continue\n",
    "        l = n - diff\n",
    "        R = get_radial_part(n, l, r)\n",
    "        ax.plot(r, R/max(R), label=f'({n}, {l})')\n",
    "        ax.legend()\n",
    "        ax.grid(True)\n",
    "plt.show()"
   ]
  },
  {
   "cell_type": "markdown",
   "id": "2cd0c418-9c88-4740-b586-298922074424",
   "metadata": {},
   "source": [
    "# Polar Part"
   ]
  },
  {
   "cell_type": "markdown",
   "id": "eaf74a68-d58c-479e-bd72-834f081b2a07",
   "metadata": {},
   "source": [
    "## l Sorted"
   ]
  },
  {
   "cell_type": "code",
   "execution_count": null,
   "id": "af833a09-0ab1-42a2-9bb2-9654ccd2c063",
   "metadata": {},
   "outputs": [],
   "source": [
    "from scipy.special import lpmv\n",
    "\n",
    "theta_1d = np.linspace(0, np.pi, 100)\n",
    "\n",
    "fig, axes = plt.subplots(1, 5, figsize=(5*4, 4))\n",
    "\n",
    "for l in range(5):\n",
    "    ax = axes[l]\n",
    "    for m in range(l, -1, -1):\n",
    "        legendre_part = (-1)**m * lpmv(m, l, np.cos(theta_1d))\n",
    "        legendre_part /= max(np.abs(legendre_part))\n",
    "        ax.plot(theta_1d/np.pi, legendre_part, label=f'({l}, {m})')\n",
    "    ax.legend()\n",
    "    ax.set_ylim(-1.1, 1.1)\n",
    "plt.show()"
   ]
  },
  {
   "cell_type": "markdown",
   "id": "0436b71a-347f-4840-a461-4badfa38aa3b",
   "metadata": {},
   "source": [
    "## Diff Sorted"
   ]
  },
  {
   "cell_type": "code",
   "execution_count": null,
   "id": "397830e0-85e5-459f-8be9-8c927cb06931",
   "metadata": {},
   "outputs": [],
   "source": [
    "theta_1d = np.linspace(0, np.pi, 100)\n",
    "\n",
    "fig, axes = plt.subplots(1, 5, figsize=(5*4, 4))\n",
    "\n",
    "for diff in range(5):\n",
    "    ax = axes[diff]\n",
    "    for l in range(5):\n",
    "        m = l - diff\n",
    "        if m < 0:\n",
    "            continue\n",
    "        legendre_part = (-1)**m * lpmv(m, l, np.cos(theta_1d))\n",
    "        legendre_part /= max(np.abs(legendre_part))\n",
    "        ax.plot(theta_1d/np.pi, legendre_part, label=f'({l}, {m})')\n",
    "    ax.legend()\n",
    "    ax.set_ylim(-1.1, 1.1)\n",
    "plt.show()"
   ]
  }
 ],
 "metadata": {
  "kernelspec": {
   "display_name": "Python 3 (ipykernel)",
   "language": "python",
   "name": "python3"
  },
  "language_info": {
   "codemirror_mode": {
    "name": "ipython",
    "version": 3
   },
   "file_extension": ".py",
   "mimetype": "text/x-python",
   "name": "python",
   "nbconvert_exporter": "python",
   "pygments_lexer": "ipython3",
   "version": "3.9.13"
  }
 },
 "nbformat": 4,
 "nbformat_minor": 5
}
