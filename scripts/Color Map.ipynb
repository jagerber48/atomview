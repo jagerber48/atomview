{
 "cells": [
  {
   "cell_type": "code",
   "execution_count": null,
   "id": "0927f07c",
   "metadata": {},
   "outputs": [],
   "source": [
    "import numpy as np\n",
    "import matplotlib.pyplot as plt\n",
    "\n",
    "from atomview.utils import complex_to_rgba\n",
    "\n",
    "x, y = np.meshgrid(np.linspace(-1, 1, 100), np.linspace(-1, 1, 100), indexing='xy')\n",
    "r = np.sqrt(x**2 + y**2)\n",
    "cos_phi = x / r\n",
    "sin_phi = y / r\n",
    "\n",
    "psi = r * (cos_phi + 1j * sin_phi)\n",
    "rgba = complex_to_rgba(psi, mag_maps_to='s')\n",
    "\n",
    "plt.imshow(rgba, origin='lower', extent=[-1, 1, -1, 1])\n",
    "plt.show()"
   ]
  },
  {
   "cell_type": "code",
   "execution_count": null,
   "id": "f98922d2-85e4-4db3-84d7-7363a83ca242",
   "metadata": {},
   "outputs": [],
   "source": []
  }
 ],
 "metadata": {
  "kernelspec": {
   "display_name": "Python 3 (ipykernel)",
   "language": "python",
   "name": "python3"
  },
  "language_info": {
   "codemirror_mode": {
    "name": "ipython",
    "version": 3
   },
   "file_extension": ".py",
   "mimetype": "text/x-python",
   "name": "python",
   "nbconvert_exporter": "python",
   "pygments_lexer": "ipython3",
   "version": "3.9.13"
  }
 },
 "nbformat": 4,
 "nbformat_minor": 5
}
